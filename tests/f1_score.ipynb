{
 "cells": [
  {
   "cell_type": "code",
   "execution_count": 1,
   "metadata": {},
   "outputs": [],
   "source": [
    "# Load Libraries\n",
    "%matplotlib inline\n",
    "import matplotlib.pyplot as plt\n",
    "import seaborn as sns\n",
    "import numpy as np\n",
    "import pandas as pd \n",
    "\n",
    "from sklearn.metrics import f1_score as f1_scorer"
   ]
  },
  {
   "cell_type": "code",
   "execution_count": 34,
   "metadata": {},
   "outputs": [
    {
     "name": "stdout",
     "output_type": "stream",
     "text": [
      "Test score 100%: 0.32\n",
      "Test score 70%: 0.3142857142857143\n",
      "Test score 30%: 0.3333333333333333\n"
     ]
    }
   ],
   "source": [
    "test_real = pd.read_csv('../dataset_real/test_real.csv', sep=';', decimal=',')\n",
    "test_real.head()\n",
    "\n",
    "# Split the dataset dat into train based on the value of column split\n",
    "\n",
    "y_test = test_real['label']\n",
    "\n",
    "# Split the dataset into the 35 first rows in a variable called X_test_70 and the rest in a variable called X_test_30\n",
    "\n",
    "y_test_70 = y_test.iloc[0:35]\n",
    "\n",
    "y_test_30 = y_test.iloc[35:]\n",
    "\n",
    "\n",
    "# Read csv into a np array called results.csv\n",
    "results = pd.read_csv('./resultados_new.csv')\n",
    "\n",
    "# Put column name label in a variable called test_score only the first 35 rows\n",
    "\n",
    "test_score = results['label']\n",
    "\n",
    "test_score_70 = results['label'].values[0:35]\n",
    "test_score_30 = results['label'].values[35:]\n",
    "\n",
    "f1_score_test = f1_scorer(y_test, test_score, average='micro');\n",
    "\n",
    "f1_score_test_70 = f1_scorer(y_test_70, test_score_70, average='micro');\n",
    "\n",
    "f1_score_test_30 = f1_scorer(y_test_30, test_score_30, average='micro');\n",
    "\n",
    "print(f'Test score 100%: {f1_score_test}')\n",
    "print(f'Test score 70%: {f1_score_test_70}')\n",
    "print(f'Test score 30%: {f1_score_test_30}')"
   ]
  }
 ],
 "metadata": {
  "kernelspec": {
   "display_name": "Python 3",
   "language": "python",
   "name": "python3"
  },
  "language_info": {
   "codemirror_mode": {
    "name": "ipython",
    "version": 3
   },
   "file_extension": ".py",
   "mimetype": "text/x-python",
   "name": "python",
   "nbconvert_exporter": "python",
   "pygments_lexer": "ipython3",
   "version": "3.10.9"
  },
  "orig_nbformat": 4
 },
 "nbformat": 4,
 "nbformat_minor": 2
}
